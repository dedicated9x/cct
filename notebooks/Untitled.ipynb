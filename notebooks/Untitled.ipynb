{
 "cells": [
  {
   "cell_type": "code",
   "execution_count": 4,
   "id": "9c798cfa-f5ff-47df-9f0c-5322c50768c3",
   "metadata": {},
   "outputs": [],
   "source": [
    "from IPython.display import Image, display"
   ]
  },
  {
   "cell_type": "markdown",
   "id": "c316d617-2583-4711-a74f-5bd003b975ec",
   "metadata": {
    "jp-MarkdownHeadingCollapsed": true
   },
   "source": [
    "# Prepare augmentations for both networks (0.5)"
   ]
  },
  {
   "cell_type": "markdown",
   "id": "6cc22968-98f1-4d2e-9d34-b6586948bcc2",
   "metadata": {},
   "source": [
    "Implementacja augmentacji znajduje się w skrypcie `cct/src/tasks/gsn1/dataset.py`. Aby być pewnym co do tego, że augmentacje są poprawne, utworzyłem metodę `_display_dataset`. Zawiera one pętlę, która przegląda dataset próbka po próbce. W każdej iteracji pokazany jest oryginalny obraz oraz obraz po augmentacji, obydwa z odpowiednimi oznaczeniami. Jeśli dla danej próbki nie zastosowano augmentacji, to drugi obraz będzie w takiej sytuacji identyczny. Przykładowa wizualizacja jednej próbki znajduje się poniżej."
   ]
  },
  {
   "cell_type": "code",
   "execution_count": 5,
   "id": "aa9e8c1d-e836-4ea4-8f31-109b6822648b",
   "metadata": {},
   "outputs": [
    {
     "data": {
      "image/png": "[encoded data removed]",
      "text/plain": [
       "<IPython.core.display.Image object>"
      ]
     },
     "metadata": {},
     "output_type": "display_data"
    }
   ],
   "source": [
    "display(Image(filename=\"/home/admin2/Documents/repos/cct/notebooks/images/gsn1/augmentations.png\"))"
   ]
  },
  {
   "cell_type": "markdown",
   "id": "0e17b178-5c57-4146-9b6c-524e51e56704",
   "metadata": {},
   "source": [
    "Nie zostało pokazane, jaka konkretnie augmentacja została zastosowana, gdyż nie to jest najważniejsze. Najważniejsze jest to, że obraz po augmentacji ma właściwe oznaczenie. Przeglądając obrazy w pętli możemy przekonać się, że kod dodkonujący augmentacji nie zawiera błędów."
   ]
  },
  {
   "cell_type": "markdown",
   "id": "caee757b-74fb-4461-bc1b-bd184934003b",
   "metadata": {},
   "source": [
    "# Prepare additional metrics (0.5)"
   ]
  },
  {
   "cell_type": "markdown",
   "id": "648b05d5-932c-44a5-b95b-b434bf1ae52d",
   "metadata": {},
   "source": [
    "# Prepare shape classification network (0.5) & figure counting network (0.5)"
   ]
  },
  {
   "cell_type": "markdown",
   "id": "efecbf8e-fdda-47ef-8ab6-32546fbb918f",
   "metadata": {},
   "source": [
    "Mimo, że w tytule rodziału jest mowa o dwóch różnych sieciach w istocie różnica jest niewielka. Sieć jednego typu można przekształcić w sieć drugiego typu jedynie zmieniając liczbę ficzerów na wyjściu. Dlatego też obydwie sieci były generowane z tego samego kodu, który znajduje się poniżej."
   ]
  },
  {
   "cell_type": "code",
   "execution_count": 8,
   "id": "17994f58-d32d-4c04-b963-e1d063b7184e",
   "metadata": {},
   "outputs": [
    {
     "name": "stdout",
     "output_type": "stream",
     "text": [
      "class ShapeClassificationNet(nn.Module):\n",
      "    def __init__(\n",
      "            self,\n",
      "            out_features: int,\n",
      "            input_shape: List[int],\n",
      "            n_conv_layers: int,\n",
      "            n_channels_first_conv_layer: int,\n",
      "            n_channels_last_conv_layer: int,\n",
      "            maxpool_placing: str,\n",
      "            pooling_method: str,\n",
      "            n_fc_layers: int,\n",
      "            fc_hidden_dim: int\n",
      "    ):\n",
      "        assert len(input_shape) == 3\n",
      "        assert n_conv_layers >= 2\n",
      "        assert maxpool_placing in [\"first_conv\", \"even_convs\", \"none\"]\n",
      "        assert pooling_method in [\"adaptive_avg\", \"fc\"]\n",
      "\n",
      "        super(ShapeClassificationNet, self).__init__()\n",
      "\n",
      "        # Create conv block\n",
      "        conv_block_scheme = _create_conv_block_scheme_from_params(\n",
      "            n_conv_layers, n_channels_first_conv_layer,\n",
      "            n_channels_last_conv_layer, maxpool_placing\n",
      "        )\n",
      "        self.conv_block = nn.ModuleList()\n",
      "        for i, (in_channels, out_channels, add_maxpool) in enumerate(conv_block_scheme):\n",
      "            self.conv_block.append(\n",
      "                nn.Sequential(\n",
      "                    nn.Conv2d(in_channels=in_channels, out_channels=out_channels, kernel_size=3, padding=1),\n",
      "                    nn.BatchNorm2d(out_channels),\n",
      "                    nn.ReLU(),\n",
      "                    nn.MaxPool2d(2, 2) if add_maxpool else nn.Identity()\n",
      "                )\n",
      "            )\n",
      "\n",
      "        # Create \"pooling\" fc layer (neck).\n",
      "        if pooling_method == \"fc\":\n",
      "            _x = torch.randn([1] + input_shape)\n",
      "            for conv_layer in self.conv_block:\n",
      "                _x = conv_layer(_x)\n",
      "            in_features_first_fc_layer = _x.shape[1:].numel()\n",
      "        else:\n",
      "            in_features_first_fc_layer = self.conv_block[-1][0].out_channels\n",
      "            self.adaptive_pool = nn.AdaptiveAvgPool2d((1, 1))\n",
      "\n",
      "        fc_block_scheme = _create_fc_block_scheme_from_params(\n",
      "            n_fc_layers, in_features_first_fc_layer,\n",
      "            fc_hidden_dim, out_features\n",
      "        )\n",
      "\n",
      "        self.fc_block = nn.ModuleList()\n",
      "        for i, (in_features, out_features, add_dropout, add_relu) in enumerate(fc_block_scheme):\n",
      "            self.fc_block.append(\n",
      "                nn.Sequential(\n",
      "                    nn.Dropout(0.5) if add_dropout else nn.Identity(),\n",
      "                    nn.Linear(in_features, out_features),\n",
      "                    nn.ReLU() if add_relu else nn.Identity(),\n",
      "                )\n",
      "            )\n",
      "\n",
      "        # Store params required during `forward` step.\n",
      "        self.pooling_method = pooling_method\n",
      "\n",
      "    def forward(self, x):\n",
      "        # Apply convolutional layers\n",
      "        for conv_layer in self.conv_block:\n",
      "            x = conv_layer(x)\n",
      "\n",
      "        # Apply Global Average Pooling\n",
      "        if self.pooling_method == \"adaptive_avg\":\n",
      "            x = self.adaptive_pool(x)\n",
      "        else:\n",
      "            pass\n",
      "\n",
      "        # Reshape (`fc` case) or just flatten (`adaptive_avg` case)\n",
      "        x = x.view(x.size(0), -1)\n",
      "\n",
      "        # Apply fully connected layers\n",
      "        for fc_layer in self.fc_block:\n",
      "            x = fc_layer(x)\n",
      "\n",
      "        return x\n"
     ]
    }
   ],
   "source": [
    "!sed -n '45,127p' /home/admin2/Documents/repos/cct/src/tasks/gsn1/arch.py"
   ]
  },
  {
   "cell_type": "markdown",
   "id": "f2765f38-b5ed-487f-9b6e-d998d5a2b955",
   "metadata": {},
   "source": [
    "Inspirowałem się architekturami VGG oraz Resnet. Mimo, że powyższy kod pozwala na stworzenie bardzo wielu potencjalnych architektur, to pewne własności są w nim ustalone. Takimi własnościami są m.in.:\n",
    "- ReLU po każdej warstwie konwolucyjnej i gęstej,\n",
    "- batchnorm po każdej warstwie konwolucyjnej,\n",
    "- dropout przed każdą warstwą gęstą. \n",
    "\n",
    "Zarówno VGG, jak i Resnet miały te cechy, więc zdecydowałem nie przeprowadzać eksperymentów w tej materii. Co podlegało za to eksperymentom to liczba warstw poszczególnych typów, liczba kanałów we warstwach, jak i sposób na połączenie części konwolucyjną z częścią gestą sieci. Sposób ten to albo użycie warstwy gęstej o bardzo wielu neuronach na wejściu (`pooling_method == \"fc\"`), albo poolowanie (`pooling_method == \"adaptive_avg\"`)."
   ]
  },
  {
   "cell_type": "code",
   "execution_count": null,
   "id": "806de7aa-b58a-4c8b-b799-81a5038652e0",
   "metadata": {},
   "outputs": [],
   "source": []
  }
 ],
 "metadata": {
  "kernelspec": {
   "display_name": "Python 3 (ipykernel)",
   "language": "python",
   "name": "python3"
  },
  "language_info": {
   "codemirror_mode": {
    "name": "ipython",
    "version": 3
   },
   "file_extension": ".py",
   "mimetype": "text/x-python",
   "name": "python",
   "nbconvert_exporter": "python",
   "pygments_lexer": "ipython3",
   "version": "3.9.0"
  }
 },
 "nbformat": 4,
 "nbformat_minor": 5
}
