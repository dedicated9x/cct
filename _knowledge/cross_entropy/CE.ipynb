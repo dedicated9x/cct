{
  "nbformat": 4,
  "nbformat_minor": 0,
  "metadata": {
    "colab": {
      "provenance": []
    },
    "kernelspec": {
      "name": "python3",
      "display_name": "Python 3"
    },
    "language_info": {
      "name": "python"
    }
  },
  "cells": [
    {
      "cell_type": "code",
      "execution_count": 1,
      "metadata": {
        "id": "uRnOuxDx3p4N"
      },
      "outputs": [],
      "source": [
        "import torch\n",
        "import torch.nn as nn\n",
        "import torch.nn.functional as F\n",
        "import pandas as pd\n",
        "import numpy as np"
      ]
    },
    {
      "cell_type": "markdown",
      "source": [
        "# Implementacja nn.CrossEntropyLoss()"
      ],
      "metadata": {
        "id": "yNyWJ4Tv_o99"
      }
    },
    {
      "cell_type": "markdown",
      "source": [
        "Logits <==> (-inf, inf) <br>\n",
        "Predictions (preds) <==> (0, 1)"
      ],
      "metadata": {
        "id": "_ctdUtQt30JQ"
      }
    },
    {
      "cell_type": "code",
      "source": [
        "# batch_size=32, n_classes=5\n",
        "logits = torch.randn((32, 5))\n",
        "targets_dense = torch.randint(low=0, high=5, size=(1, 32)).squeeze()"
      ],
      "metadata": {
        "id": "tvPJc6DE31-4"
      },
      "execution_count": 29,
      "outputs": []
    },
    {
      "cell_type": "code",
      "source": [
        "targets_dense"
      ],
      "metadata": {
        "colab": {
          "base_uri": "https://localhost:8080/"
        },
        "id": "lbAM3zJw5EuG",
        "outputId": "320a8a07-1f9f-4217-fb88-f741b6c10bd8"
      },
      "execution_count": 19,
      "outputs": [
        {
          "output_type": "execute_result",
          "data": {
            "text/plain": [
              "tensor([0, 2, 2, 4, 2, 0, 2, 4, 1, 4, 2, 0, 2, 1, 0, 2, 2, 4, 4, 2, 1, 0, 4, 3,\n",
              "        1, 3, 2, 3, 4, 0, 2, 0])"
            ]
          },
          "metadata": {},
          "execution_count": 19
        }
      ]
    },
    {
      "cell_type": "code",
      "source": [
        "preds = torch.nn.Softmax(dim=1)(logits)"
      ],
      "metadata": {
        "id": "VQOUfB2P5Kmo"
      },
      "execution_count": 30,
      "outputs": []
    },
    {
      "cell_type": "code",
      "source": [
        "EXAMPLE_IDX = 13\n",
        "print(preds[EXAMPLE_IDX, :].shape)\n",
        "print(preds[EXAMPLE_IDX, :].sum())"
      ],
      "metadata": {
        "colab": {
          "base_uri": "https://localhost:8080/"
        },
        "id": "Bxev1dQ56SL9",
        "outputId": "cea15bfe-0fbc-4dad-882a-515723ab6bde"
      },
      "execution_count": 21,
      "outputs": [
        {
          "output_type": "stream",
          "name": "stdout",
          "text": [
            "torch.Size([5])\n",
            "tensor(1.)\n"
          ]
        }
      ]
    },
    {
      "cell_type": "code",
      "source": [
        "targets_sparse = F.one_hot(targets_dense)"
      ],
      "metadata": {
        "id": "VWjEBlv06am4"
      },
      "execution_count": 31,
      "outputs": []
    },
    {
      "cell_type": "code",
      "source": [
        "AVG_HEAD_SIZE = 5\n",
        "targets_sparse[:AVG_HEAD_SIZE, :]"
      ],
      "metadata": {
        "colab": {
          "base_uri": "https://localhost:8080/"
        },
        "id": "X-ilZhQw6w2A",
        "outputId": "0144ae14-8fb6-4035-e338-c272140b16b0"
      },
      "execution_count": 22,
      "outputs": [
        {
          "output_type": "execute_result",
          "data": {
            "text/plain": [
              "tensor([[0, 0, 0, 0, 1],\n",
              "        [0, 0, 1, 0, 0],\n",
              "        [0, 0, 0, 0, 1],\n",
              "        [1, 0, 0, 0, 0],\n",
              "        [1, 0, 0, 0, 0]])"
            ]
          },
          "metadata": {},
          "execution_count": 22
        }
      ]
    },
    {
      "cell_type": "code",
      "source": [
        "explicit_ce_loss = [\n",
        "    sum([\n",
        "        -(y_i * torch.log(p_i))\n",
        "        for p_i, y_i in zip(distribution, sparse_target)\n",
        "    ])\n",
        "    for distribution, sparse_target in zip(preds, targets_sparse)\n",
        "]\n",
        "explicit_ce_loss = torch.Tensor(explicit_ce_loss)"
      ],
      "metadata": {
        "id": "fCWVuxmv7WxC"
      },
      "execution_count": 32,
      "outputs": []
    },
    {
      "cell_type": "code",
      "source": [
        "ce_loss = nn.CrossEntropyLoss(reduction=\"none\")(logits, targets_dense)\n",
        "torch.isclose(explicit_ce_loss, ce_loss).all().item()"
      ],
      "metadata": {
        "colab": {
          "base_uri": "https://localhost:8080/"
        },
        "id": "aBO0HgQp9T4J",
        "outputId": "c20bbcf7-689b-40ad-ac77-d48f6cbbc332"
      },
      "execution_count": 33,
      "outputs": [
        {
          "output_type": "execute_result",
          "data": {
            "text/plain": [
              "True"
            ]
          },
          "metadata": {},
          "execution_count": 33
        }
      ]
    },
    {
      "cell_type": "markdown",
      "source": [
        "# Implementacja nn.NLLLoss() oraz nn.LogSoftmax()"
      ],
      "metadata": {
        "id": "cR_Y7NcIAisy"
      }
    },
    {
      "cell_type": "code",
      "source": [
        "ce_loss_v2 = nn.NLLLoss(reduction=\"none\")(torch.nn.LogSoftmax(dim=1)(logits), targets_dense)\n",
        "torch.isclose(ce_loss, ce_loss_v2).all().item()"
      ],
      "metadata": {
        "colab": {
          "base_uri": "https://localhost:8080/"
        },
        "id": "06fo_1B5AJyi",
        "outputId": "11f5de20-d160-4f70-c2db-ea96c4bde168"
      },
      "execution_count": 37,
      "outputs": [
        {
          "output_type": "execute_result",
          "data": {
            "text/plain": [
              "True"
            ]
          },
          "metadata": {},
          "execution_count": 37
        }
      ]
    },
    {
      "cell_type": "markdown",
      "source": [
        "Jak widać NLLLoss to na 99% iloczyn skalarny pomnożony przez -1."
      ],
      "metadata": {
        "id": "H01Bz_HuA86G"
      }
    }
  ]
}