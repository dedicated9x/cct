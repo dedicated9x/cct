{
 "cells": [
  {
   "cell_type": "code",
   "execution_count": 1,
   "metadata": {
    "id": "uRnOuxDx3p4N"
   },
   "outputs": [
    {
     "name": "stderr",
     "output_type": "stream",
     "text": [
      "/home/admin2/mambaforge/envs/cct_flowers17_v5/lib/python3.9/site-packages/tqdm/auto.py:21: TqdmWarning: IProgress not found. Please update jupyter and ipywidgets. See https://ipywidgets.readthedocs.io/en/stable/user_install.html\n",
      "  from .autonotebook import tqdm as notebook_tqdm\n"
     ]
    }
   ],
   "source": [
    "import torch\n",
    "import torch.nn as nn\n",
    "import torch.nn.functional as F\n",
    "import pandas as pd\n",
    "import numpy as np"
   ]
  },
  {
   "cell_type": "markdown",
   "metadata": {
    "id": "yNyWJ4Tv_o99"
   },
   "source": [
    "# Implementacja nn.CrossEntropyLoss()"
   ]
  },
  {
   "cell_type": "markdown",
   "metadata": {
    "id": "_ctdUtQt30JQ"
   },
   "source": [
    "Logits <==> (-inf, inf) <br>\n",
    "Predictions (preds) <==> (0, 1)"
   ]
  },
  {
   "cell_type": "code",
   "execution_count": 2,
   "metadata": {
    "id": "tvPJc6DE31-4"
   },
   "outputs": [],
   "source": [
    "# batch_size=32, n_classes=5\n",
    "logits = torch.randn((32, 5))\n",
    "targets_dense = torch.randint(low=0, high=5, size=(1, 32)).squeeze()"
   ]
  },
  {
   "cell_type": "code",
   "execution_count": 3,
   "metadata": {
    "colab": {
     "base_uri": "https://localhost:8080/"
    },
    "id": "lbAM3zJw5EuG",
    "outputId": "320a8a07-1f9f-4217-fb88-f741b6c10bd8"
   },
   "outputs": [
    {
     "data": {
      "text/plain": [
       "tensor([0, 4, 0, 3, 2, 4, 2, 2, 1, 4, 1, 0, 2, 4, 2, 3, 4, 1, 0, 3, 1, 4, 4, 0,\n",
       "        0, 2, 4, 4, 2, 0, 0, 2])"
      ]
     },
     "execution_count": 3,
     "metadata": {},
     "output_type": "execute_result"
    }
   ],
   "source": [
    "targets_dense"
   ]
  },
  {
   "cell_type": "code",
   "execution_count": 4,
   "metadata": {
    "id": "VQOUfB2P5Kmo"
   },
   "outputs": [],
   "source": [
    "preds = torch.nn.Softmax(dim=1)(logits)"
   ]
  },
  {
   "cell_type": "code",
   "execution_count": 5,
   "metadata": {
    "colab": {
     "base_uri": "https://localhost:8080/"
    },
    "id": "Bxev1dQ56SL9",
    "outputId": "cea15bfe-0fbc-4dad-882a-515723ab6bde"
   },
   "outputs": [
    {
     "name": "stdout",
     "output_type": "stream",
     "text": [
      "torch.Size([5])\n",
      "tensor(1.0000)\n"
     ]
    }
   ],
   "source": [
    "EXAMPLE_IDX = 13\n",
    "print(preds[EXAMPLE_IDX, :].shape)\n",
    "print(preds[EXAMPLE_IDX, :].sum())"
   ]
  },
  {
   "cell_type": "code",
   "execution_count": 6,
   "metadata": {
    "id": "VWjEBlv06am4"
   },
   "outputs": [],
   "source": [
    "targets_sparse = F.one_hot(targets_dense)"
   ]
  },
  {
   "cell_type": "code",
   "execution_count": 7,
   "metadata": {
    "colab": {
     "base_uri": "https://localhost:8080/"
    },
    "id": "X-ilZhQw6w2A",
    "outputId": "0144ae14-8fb6-4035-e338-c272140b16b0"
   },
   "outputs": [
    {
     "data": {
      "text/plain": [
       "tensor([[1, 0, 0, 0, 0],\n",
       "        [0, 0, 0, 0, 1],\n",
       "        [1, 0, 0, 0, 0],\n",
       "        [0, 0, 0, 1, 0],\n",
       "        [0, 0, 1, 0, 0]])"
      ]
     },
     "execution_count": 7,
     "metadata": {},
     "output_type": "execute_result"
    }
   ],
   "source": [
    "AVG_HEAD_SIZE = 5\n",
    "targets_sparse[:AVG_HEAD_SIZE, :]"
   ]
  },
  {
   "cell_type": "code",
   "execution_count": 8,
   "metadata": {
    "id": "fCWVuxmv7WxC"
   },
   "outputs": [],
   "source": [
    "explicit_ce_loss = [\n",
    "    sum([\n",
    "        -(y_i * torch.log(p_i))\n",
    "        for p_i, y_i in zip(distribution, sparse_target)\n",
    "    ])\n",
    "    for distribution, sparse_target in zip(preds, targets_sparse)\n",
    "]\n",
    "explicit_ce_loss = torch.Tensor(explicit_ce_loss)"
   ]
  },
  {
   "cell_type": "code",
   "execution_count": 9,
   "metadata": {
    "colab": {
     "base_uri": "https://localhost:8080/"
    },
    "id": "aBO0HgQp9T4J",
    "outputId": "c20bbcf7-689b-40ad-ac77-d48f6cbbc332"
   },
   "outputs": [
    {
     "data": {
      "text/plain": [
       "True"
      ]
     },
     "execution_count": 9,
     "metadata": {},
     "output_type": "execute_result"
    }
   ],
   "source": [
    "ce_loss = nn.CrossEntropyLoss(reduction=\"none\")(logits, targets_dense)\n",
    "torch.isclose(explicit_ce_loss, ce_loss).all().item()"
   ]
  },
  {
   "cell_type": "markdown",
   "metadata": {
    "id": "cR_Y7NcIAisy"
   },
   "source": [
    "# Implementacja nn.NLLLoss() oraz nn.LogSoftmax()"
   ]
  },
  {
   "cell_type": "code",
   "execution_count": 10,
   "metadata": {
    "colab": {
     "base_uri": "https://localhost:8080/"
    },
    "id": "06fo_1B5AJyi",
    "outputId": "11f5de20-d160-4f70-c2db-ea96c4bde168"
   },
   "outputs": [
    {
     "data": {
      "text/plain": [
       "True"
      ]
     },
     "execution_count": 10,
     "metadata": {},
     "output_type": "execute_result"
    }
   ],
   "source": [
    "ce_loss_v2 = nn.NLLLoss(reduction=\"none\")(torch.nn.LogSoftmax(dim=1)(logits), targets_dense)\n",
    "torch.isclose(ce_loss, ce_loss_v2).all().item()"
   ]
  },
  {
   "cell_type": "markdown",
   "metadata": {
    "id": "H01Bz_HuA86G"
   },
   "source": [
    "Jak widać NLLLoss to na 99% iloczyn skalarny pomnożony przez -1."
   ]
  },
  {
   "cell_type": "code",
   "execution_count": null,
   "metadata": {},
   "outputs": [],
   "source": []
  }
 ],
 "metadata": {
  "colab": {
   "provenance": []
  },
  "kernelspec": {
   "display_name": "Python 3 (ipykernel)",
   "language": "python",
   "name": "python3"
  },
  "language_info": {
   "codemirror_mode": {
    "name": "ipython",
    "version": 3
   },
   "file_extension": ".py",
   "mimetype": "text/x-python",
   "name": "python",
   "nbconvert_exporter": "python",
   "pygments_lexer": "ipython3",
   "version": "3.9.0"
  }
 },
 "nbformat": 4,
 "nbformat_minor": 4
}
